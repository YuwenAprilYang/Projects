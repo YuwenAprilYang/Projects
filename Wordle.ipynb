{
 "cells": [
  {
   "cell_type": "markdown",
   "id": "35c11bb3",
   "metadata": {},
   "source": [
    "# Wordle Game\n",
    "### Wordle is a word-guessing game. Players have six attempts to guess a five-letter word, with feedback given for each guess in the form of coloured tiles indicating when letters match or occupy the correct position."
   ]
  },
  {
   "cell_type": "code",
   "execution_count": null,
   "id": "9ecef408",
   "metadata": {},
   "outputs": [],
   "source": [
    "import random"
   ]
  },
  {
   "cell_type": "markdown",
   "id": "7d2476f7",
   "metadata": {},
   "source": [
    "#### total_words is the whole word list that contains all five-letter words"
   ]
  },
  {
   "cell_type": "code",
   "execution_count": null,
   "id": "47d8dc36",
   "metadata": {},
   "outputs": [],
   "source": [
    "def total_words():\n",
    "    import urllib.request\n",
    "    data= urllib.request.urlopen ('https://raw.githubusercontent.com/tabatkins/wordle-list/main/words')\n",
    "    total_list= data.read().decode('utf-8').split()\n",
    "    return  total_list"
   ]
  },
  {
   "cell_type": "markdown",
   "id": "077d4198",
   "metadata": {},
   "source": [
    "#### possible_words is a five-letter words list where we extract the answer from. Because the whole word list contains words that we barely heard of, using possible_words as answer can be easier for users to guess"
   ]
  },
  {
   "cell_type": "code",
   "execution_count": null,
   "id": "3273baf2",
   "metadata": {},
   "outputs": [],
   "source": [
    "def possible_words():\n",
    "    import urllib.request\n",
    "    data= urllib.request.urlopen('https://raw.githubusercontent.com/charlesreid1/five-letter-words/master/sgb-words.txt')\n",
    "    possible_list= data.read().decode('utf-8').split()\n",
    "    return possible_list"
   ]
  },
  {
   "cell_type": "markdown",
   "id": "9a65d87b",
   "metadata": {},
   "source": [
    "#### try_word is the user's input of their guess"
   ]
  },
  {
   "cell_type": "code",
   "execution_count": null,
   "id": "2c9691d1",
   "metadata": {},
   "outputs": [],
   "source": [
    "def try_word():\n",
    "    try_result = input(\"Guess a 5-letter word: \").strip().lower()\n",
    "    return try_result"
   ]
  },
  {
   "cell_type": "markdown",
   "id": "a14acedd",
   "metadata": {},
   "source": [
    "#### This is the answer where we randomly select one from the possible_words list"
   ]
  },
  {
   "cell_type": "code",
   "execution_count": null,
   "id": "2856e2c8",
   "metadata": {},
   "outputs": [],
   "source": [
    "answer = random.choice(possible_words())"
   ]
  },
  {
   "cell_type": "markdown",
   "id": "67eb5020",
   "metadata": {},
   "source": [
    "#### We want to check if user's input is an actual five-letter word. So we see if their guess is in the total_words list"
   ]
  },
  {
   "cell_type": "code",
   "execution_count": null,
   "id": "5c8bf64e",
   "metadata": {},
   "outputs": [],
   "source": [
    "def valid_word (try_word, total_words):\n",
    "    return try_word in total_words"
   ]
  },
  {
   "cell_type": "markdown",
   "id": "cfbc9ddd",
   "metadata": {},
   "source": [
    "#### letter_position shows the result of user's guess. If the letter is correct and has the right position, the result will appear as 'G'. If the letter is correct, but the position is wrong, the result will appear as 'Y'. If neither the letter nor the possition is correct, the result will be '/'"
   ]
  },
  {
   "cell_type": "code",
   "execution_count": null,
   "id": "8910b5fb",
   "metadata": {},
   "outputs": [],
   "source": [
    "def letter_position(try_word, answer):\n",
    "    clue = ['','','','','']\n",
    "    for i in range(0,5):\n",
    "        if try_word[i]== answer[i]:\n",
    "            clue[i]='G'\n",
    "        elif try_word[i] in answer:\n",
    "            clue[i]='Y'\n",
    "        else:\n",
    "            clue[i]='/'\n",
    "    return clue"
   ]
  },
  {
   "cell_type": "markdown",
   "id": "2ca09a5d",
   "metadata": {},
   "source": [
    "### Now we have the wordle game\n",
    "Users have 6 attempts\n",
    "If the users fail to guess the correct answer in 6 attemps, then game over\n",
    "If the user fail to enter a valid word, there will be a notification to enter a valid word, and it doesn't count as a failed attempt"
   ]
  },
  {
   "cell_type": "code",
   "execution_count": null,
   "id": "5cf1fb6b",
   "metadata": {},
   "outputs": [],
   "source": [
    "def wordle():\n",
    "    attempt= 0\n",
    "    total_attempts = 6\n",
    "    \n",
    "    while attempt < total_attempts:\n",
    "        guess = try_word()\n",
    "        if not valid_word(guess,total_words()):\n",
    "            print(\"Please enter a valid 5-letter word\")\n",
    "            continue\n",
    "       \n",
    "        if guess == answer:\n",
    "            print(\"Congrats! You guessed the words correctly\")\n",
    "            break\n",
    "        else:\n",
    "            total_attempts -= 1\n",
    "            print(letter_position(guess,answer))\n",
    "            print(f\"You have {total_attempts} chances left\")\n",
    "    if total_attempts == 0:\n",
    "        print(f\"Game Over! The correct word is {(answer).upper()}\")\n",
    "     \n"
   ]
  },
  {
   "cell_type": "code",
   "execution_count": null,
   "id": "530a31d6",
   "metadata": {},
   "outputs": [],
   "source": [
    "wordle()"
   ]
  }
 ],
 "metadata": {
  "kernelspec": {
   "display_name": "Python 3 (ipykernel)",
   "language": "python",
   "name": "python3"
  },
  "language_info": {
   "codemirror_mode": {
    "name": "ipython",
    "version": 3
   },
   "file_extension": ".py",
   "mimetype": "text/x-python",
   "name": "python",
   "nbconvert_exporter": "python",
   "pygments_lexer": "ipython3",
   "version": "3.11.4"
  }
 },
 "nbformat": 4,
 "nbformat_minor": 5
}
