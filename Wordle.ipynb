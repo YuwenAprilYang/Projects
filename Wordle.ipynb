{
 "cells": [
  {
   "cell_type": "code",
   "execution_count": 1,
   "id": "03cbcec7",
   "metadata": {},
   "outputs": [],
   "source": [
    "import random"
   ]
  },
  {
   "cell_type": "code",
   "execution_count": 2,
   "id": "47d8dc36",
   "metadata": {},
   "outputs": [],
   "source": [
    "def total_words():\n",
    "    import urllib.request\n",
    "    data= urllib.request.urlopen ('https://raw.githubusercontent.com/tabatkins/wordle-list/main/words')\n",
    "    total_list= data.read().decode('utf-8').split()\n",
    "    return  total_list\n",
    "\n",
    "def possible_words():\n",
    "    import urllib.request\n",
    "    data= urllib.request.urlopen('https://raw.githubusercontent.com/charlesreid1/five-letter-words/master/sgb-words.txt')\n",
    "    possible_list= data.read().decode('utf-8').split()\n",
    "    return possible_list"
   ]
  },
  {
   "cell_type": "code",
   "execution_count": 3,
   "id": "2c9691d1",
   "metadata": {},
   "outputs": [],
   "source": [
    "def try_word():\n",
    "    try_result = input(\"Guess a 5-letter word: \").strip().lower()\n",
    "    return try_result"
   ]
  },
  {
   "cell_type": "code",
   "execution_count": 4,
   "id": "2856e2c8",
   "metadata": {},
   "outputs": [],
   "source": [
    "answer = random.choice(possible_words())"
   ]
  },
  {
   "cell_type": "code",
   "execution_count": 5,
   "id": "5c8bf64e",
   "metadata": {},
   "outputs": [],
   "source": [
    "def valid_word (try_word, total_words):\n",
    "    return try_word in total_words"
   ]
  },
  {
   "cell_type": "code",
   "execution_count": 6,
   "id": "8910b5fb",
   "metadata": {},
   "outputs": [],
   "source": [
    "def letter_position(try_word, answer):\n",
    "    clue = ['','','','','']\n",
    "    for i in range(0,5):\n",
    "        if try_word[i]== answer[i]:\n",
    "            clue[i]='G'\n",
    "        elif try_word[i] in answer:\n",
    "            clue[i]='Y'\n",
    "        else:\n",
    "            clue[i]='/'\n",
    "    return clue"
   ]
  },
  {
   "cell_type": "code",
   "execution_count": 9,
   "id": "5cf1fb6b",
   "metadata": {},
   "outputs": [],
   "source": [
    "def wordle():\n",
    "    attempt= 0\n",
    "    total_attempts = 6\n",
    "    \n",
    "    while attempt < total_attempts:\n",
    "        guess = try_word()\n",
    "        if not valid_word(guess,total_words()):\n",
    "            print(\"Please enter a valid 5-letter word\")\n",
    "            continue\n",
    "       \n",
    "        if guess == answer:\n",
    "            print(\"Congrats! You guessed the words correctly\")\n",
    "            break\n",
    "        else:\n",
    "            total_attempts -= 1\n",
    "            print(letter_position(guess,answer))\n",
    "            print(f\"You have {total_attempts} chances left\")\n",
    "    if total_attempts == 0:\n",
    "        print(f\"Game Over! The correct word is {(answer).upper()}\")\n",
    "     \n"
   ]
  },
  {
   "cell_type": "code",
   "execution_count": 10,
   "id": "530a31d6",
   "metadata": {},
   "outputs": [
    {
     "name": "stdout",
     "output_type": "stream",
     "text": [
      "Guess a 5-letter word: adsfe\n",
      "Please enter a valid 5-letter word\n",
      "Guess a 5-letter word: where\n",
      "['/', '/', 'Y', '/', 'Y']\n",
      "You have 5 chances left\n",
      "Guess a 5-letter word: where\n",
      "['/', '/', 'Y', '/', 'Y']\n",
      "You have 4 chances left\n",
      "Guess a 5-letter word: where\n",
      "['/', '/', 'Y', '/', 'Y']\n",
      "You have 3 chances left\n",
      "Guess a 5-letter word: where\n",
      "['/', '/', 'Y', '/', 'Y']\n",
      "You have 2 chances left\n",
      "Guess a 5-letter word: where\n",
      "['/', '/', 'Y', '/', 'Y']\n",
      "You have 1 chances left\n",
      "Guess a 5-letter word: where\n",
      "['/', '/', 'Y', '/', 'Y']\n",
      "You have 0 chances left\n",
      "Game Over! The correct word is JADES\n"
     ]
    }
   ],
   "source": [
    "wordle()"
   ]
  }
 ],
 "metadata": {
  "kernelspec": {
   "display_name": "Python 3 (ipykernel)",
   "language": "python",
   "name": "python3"
  },
  "language_info": {
   "codemirror_mode": {
    "name": "ipython",
    "version": 3
   },
   "file_extension": ".py",
   "mimetype": "text/x-python",
   "name": "python",
   "nbconvert_exporter": "python",
   "pygments_lexer": "ipython3",
   "version": "3.11.4"
  }
 },
 "nbformat": 4,
 "nbformat_minor": 5
}
