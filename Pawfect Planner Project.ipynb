{
 "cells": [
  {
   "cell_type": "markdown",
   "metadata": {
    "id": "ZaNZRbYkgIhw"
   },
   "source": [
    "# Pawfect Planner – Your Personalized Pet Service and Activity Recommender\n"
   ]
  },
  {
   "cell_type": "markdown",
   "metadata": {
    "id": "tF6H95jSgWdW"
   },
   "source": [
    "### Import Required Libraries"
   ]
  },
  {
   "cell_type": "code",
   "execution_count": null,
   "metadata": {},
   "outputs": [],
   "source": [
    "import requests\n",
    "import requests_cache\n",
    "import pandas as pd"
   ]
  },
  {
   "cell_type": "markdown",
   "metadata": {
    "id": "l_4tY34VgiIQ"
   },
   "source": [
    "### Initialize Caching\n",
    "Initialize cache to store API responses for 1 hour"
   ]
  },
  {
   "cell_type": "code",
   "execution_count": 25,
   "metadata": {},
   "outputs": [],
   "source": [
    "requests_cache.install_cache('pawfect_cache', expire_after=3600)"
   ]
  },
  {
   "cell_type": "markdown",
   "metadata": {},
   "source": [
    "### Define API Keys"
   ]
  },
  {
   "cell_type": "code",
   "execution_count": 26,
   "metadata": {
    "id": "c1OB_9GsgtRL"
   },
   "outputs": [],
   "source": [
    "GOOGLE_PLACES_API_KEY = ''\n",
    "OPENWEATHERMAP_API_KEY = ''"
   ]
  },
  {
   "cell_type": "markdown",
   "metadata": {},
   "source": [
    "### Convert a city name or postal code into latitude and longitude using Google Geocoding API"
   ]
  },
  {
   "cell_type": "code",
   "execution_count": 27,
   "metadata": {},
   "outputs": [],
   "source": [
    "def get_lat_lon_from_location(location, api_key):\n",
    "    geo_url = \"https://maps.googleapis.com/maps/api/geocode/json\"\n",
    "    params = {\n",
    "        'address': location,\n",
    "        'key': api_key\n",
    "    }\n",
    "    response = requests.get(geo_url, params=params)\n",
    "    \n",
    "    if response.status_code == 200:\n",
    "        data = response.json()\n",
    "        if data.get('results'):\n",
    "            lat_lng = data['results'][0]['geometry']['location']\n",
    "            return f\"{lat_lng['lat']},{lat_lng['lng']}\"\n",
    "        else:\n",
    "            print(\"No results found for the given location.\")\n",
    "            return None\n",
    "    else:\n",
    "        print(\"Error fetching geolocation data.\")\n",
    "        return None"
   ]
  },
  {
   "cell_type": "markdown",
   "metadata": {},
   "source": [
    "### Fetch Pet-Friendly Places Using Google Places API"
   ]
  },
  {
   "cell_type": "code",
   "execution_count": 30,
   "metadata": {
    "id": "AotTMxK61EsH"
   },
   "outputs": [],
   "source": [
    "def get_pet_friendly_places(location, keywords=['dog park', 'pet store', 'veterinary clinic', 'pet-friendly café', 'pet grooming', 'pet-friendly hotel'], \n",
    "                            min_rating=3.5, radius=5000):\n",
    "    \n",
    "    ## We only want places that have ratings higher than 3.5 stars\n",
    "    \n",
    "    \"\"\"\n",
    "    Parameters:\n",
    "    location (str): City name or ZIP code\n",
    "    keywords (list): General pet-friendly places to search\n",
    "    min_rating (float): Minimum acceptable rating (default: 3.5)\n",
    "    radius (int): Search radius in meters (default: 5000)\n",
    "    \n",
    "    Returns:\n",
    "    DataFrame: List of places with name, address, rating, and category\n",
    "    \"\"\"\n",
    "    \n",
    "    lat_lon = get_lat_lon_from_location(location, GOOGLE_PLACES_API_KEY)\n",
    "    if not lat_lon:\n",
    "        return None\n",
    "    \n",
    "    places = []\n",
    "    \n",
    "    for keyword in keywords:\n",
    "        url = \"https://maps.googleapis.com/maps/api/place/nearbysearch/json\"\n",
    "        params = {\n",
    "            'location': lat_lon,\n",
    "            'radius': radius,\n",
    "            'keyword': keyword,\n",
    "            'key': GOOGLE_PLACES_API_KEY\n",
    "        }\n",
    "        \n",
    "        response = requests.get(url, params=params)\n",
    "        \n",
    "        if response.status_code == 200:\n",
    "            data = response.json()\n",
    "            for place in data.get('results', []):\n",
    "                rating = place.get('rating', 0)\n",
    "                \n",
    "                # Apply rating filter\n",
    "                \n",
    "                if rating >= min_rating:\n",
    "                    places.append({\n",
    "                        'Name': place['name'],\n",
    "                        'Address': place.get('vicinity', 'N/A'),\n",
    "                        'Rating': rating,\n",
    "                        'Category': keyword  \n",
    "                    })\n",
    "        else:\n",
    "            print(f\"Error fetching data from Google Places API for {keyword}\")\n",
    "    \n",
    "    return pd.DataFrame(places) if places else pd.DataFrame()"
   ]
  },
  {
   "cell_type": "markdown",
   "metadata": {},
   "source": [
    "### Fetch Weather Information Using OpenWeatherMap API"
   ]
  },
  {
   "cell_type": "code",
   "execution_count": 32,
   "metadata": {
    "id": "dQZPGbTe1O1G"
   },
   "outputs": [],
   "source": [
    "def get_weather(location):\n",
    "    url = \"http://api.openweathermap.org/data/2.5/weather\"\n",
    "    if location.isdigit():\n",
    "        params = {'zip': f\"{location},US\", 'appid': OPENWEATHERMAP_API_KEY, 'units': 'metric'}\n",
    "    else:\n",
    "        params = {'q': location, 'appid': OPENWEATHERMAP_API_KEY, 'units': 'metric'}\n",
    "\n",
    "    response = requests.get(url, params=params)\n",
    "\n",
    "    if response.status_code == 200:\n",
    "        data = response.json()\n",
    "        weather_info = {\n",
    "            'City': data.get('name', 'Unknown City'), \n",
    "            'Temperature': data['main']['temp'],\n",
    "            'Weather': data['weather'][0]['description'],\n",
    "            'Wind Speed': data['wind']['speed']\n",
    "        }\n",
    "        return weather_info\n",
    "    else:\n",
    "        print(\"Error fetching data from OpenWeatherMap API\")\n",
    "        return {}"
   ]
  },
  {
   "cell_type": "markdown",
   "metadata": {},
   "source": [
    "### Display Pet-Friendly Places Grouped by Category"
   ]
  },
  {
   "cell_type": "code",
   "execution_count": 33,
   "metadata": {
    "id": "zAZOME5H1Wf2"
   },
   "outputs": [],
   "source": [
    "def display_pet_friendly_places(places_df):\n",
    "    if not places_df.empty:\n",
    "        print(\"\\n📌 Recommended Pet-Friendly Places:\\n\")\n",
    "        \n",
    "        # Group places by category\n",
    "        grouped_places = places_df.groupby(\"Category\")\n",
    "\n",
    "        for category, places in grouped_places:\n",
    "            print(f\"\\n🐾 **{category.upper()}** ({len(places)} locations found):\")\n",
    "            \n",
    "            # Show only up to 10 results per category\n",
    "            \n",
    "            for index, (_, row) in enumerate(places.iterrows()):\n",
    "                if index < 10:  \n",
    "                    print(f\"  {index + 1}. {row['Name']} - {row['Address']} (⭐ {row['Rating']})\")\n",
    "            print(\"-\" * 50)  \n",
    "            \n",
    "    else:\n",
    "        print(\"❌ No pet-friendly places found. Try searching for a different location.\")"
   ]
  },
  {
   "cell_type": "markdown",
   "metadata": {},
   "source": [
    "### Display Weather Data in a Readable Format"
   ]
  },
  {
   "cell_type": "code",
   "execution_count": 35,
   "metadata": {},
   "outputs": [],
   "source": [
    "def display_weather_info(weather_info, user_location):\n",
    "    if weather_info:\n",
    "        print(f\"\\n🌦️ **Current Weather in {user_location}:**\")\n",
    "        print(f\"   🌡️ Temperature: {weather_info.get('Temperature', 'N/A')}°C\")\n",
    "        print(f\"   ☁️ Weather: {weather_info.get('Weather', 'N/A').capitalize()}\") \n",
    "        print(f\"   💨 Wind Speed: {weather_info.get('Wind Speed', 'N/A')} km/h\")\n",
    "        print(\"-\" * 50)  \n",
    "    else:\n",
    "        print(\"\\n❌ Weather information could not be retrieved.\")"
   ]
  },
  {
   "cell_type": "markdown",
   "metadata": {},
   "source": [
    "### Integrate Pet-Friendly Places and Weather Data"
   ]
  },
  {
   "cell_type": "code",
   "execution_count": 36,
   "metadata": {
    "id": "XQsiX7Hv1hTi"
   },
   "outputs": [],
   "source": [
    "def pawfect_planner(user_location):\n",
    "    print(f\"\\n📍 Fetching pet-friendly places near **{user_location}**...\")\n",
    "    places_df = get_pet_friendly_places(user_location)\n",
    "\n",
    "    print(f\"\\n🌦️ Fetching weather information for **{user_location}**...\")\n",
    "    weather_info = get_weather(user_location)\n",
    "\n",
    "    # Display Weather Information\n",
    "    display_weather_info(weather_info, user_location)\n",
    "\n",
    "    # Display Pet-Friendly Places\n",
    "    display_pet_friendly_places(places_df)\n"
   ]
  },
  {
   "cell_type": "markdown",
   "metadata": {},
   "source": [
    "### Get User Input & Run the Final Program"
   ]
  },
  {
   "cell_type": "code",
   "execution_count": 37,
   "metadata": {
    "colab": {
     "base_uri": "https://localhost:8080/"
    },
    "id": "voKoK5oUByQl",
    "outputId": "22ec9258-c0f6-4d43-c8e7-6e7328dd85da"
   },
   "outputs": [
    {
     "name": "stdout",
     "output_type": "stream",
     "text": [
      "\n",
      "🔎 Enter city name or postal code: 94103\n",
      "\n",
      "📍 Fetching pet-friendly places near **94103**...\n",
      "\n",
      "🌦️ Fetching weather information for **94103**...\n",
      "\n",
      "🌦️ **Current Weather in 94103:**\n",
      "   🌡️ Temperature: 13.5°C\n",
      "   ☁️ Weather: Few clouds\n",
      "   💨 Wind Speed: 5.66 km/h\n",
      "--------------------------------------------------\n",
      "\n",
      "📌 Recommended Pet-Friendly Places:\n",
      "\n",
      "\n",
      "🐾 **DOG PARK** (20 locations found):\n",
      "  1. Channel Street Dog Park - 738 Long Bridge Street, San Francisco (⭐ 4.6)\n",
      "  2. Mountain Lake Park Dog Play Area - 1 Funston Ave, San Francisco (⭐ 4.8)\n",
      "  3. Berry Street Dog Park - 451 Berry St, San Francisco (⭐ 4.3)\n",
      "  4. Patrick's Park - Fort Mason, San Francisco (⭐ 4.8)\n",
      "  5. Walter Haas Dog Play Area - 8515 Diamond Heights Blvd, San Francisco (⭐ 4.5)\n",
      "  6. Rincon Hill Dog Park - Bryant St & Beale St, San Francisco (⭐ 3.9)\n",
      "  7. Yerba Buena Island Dog Park - 60 Yerba Buena Rd, San Francisco (⭐ 4.8)\n",
      "  8. Duboce Park - Duboce Park, Scott St, San Francisco (⭐ 4.6)\n",
      "  9. Mission Creek Dog Park - 465-479 Berry St, San Francisco (⭐ 4.3)\n",
      "  10. Corona Heights Dog Run - 263 Roosevelt Way, San Francisco (⭐ 4.6)\n",
      "--------------------------------------------------\n",
      "\n",
      "🐾 **PET GROOMING** (20 locations found):\n",
      "  1. The Dog Barber - 1903 Market St, San Francisco (⭐ 4.6)\n",
      "  2. Doggie Day Spaw - Located inside Puppy Love Daycare, 840 Harrison St, San Francisco (⭐ 4.7)\n",
      "  3. WAGS - 1840 Polk St, San Francisco (⭐ 4.6)\n",
      "  4. Green Pawz - 772 Stanyan St, San Francisco (⭐ 4.5)\n",
      "  5. San Francisco Pet Grooming - 218 Fillmore St, San Francisco (⭐ 4.7)\n",
      "  6. Foggy Doggy Grooming Salon - 1772 Filbert St, San Francisco (⭐ 4.6)\n",
      "  7. VIP Grooming - 4299 24th St, San Francisco (⭐ 4.4)\n",
      "  8. Russian Hill Dog Grooming - 2178 Bush St, San Francisco (⭐ 4.7)\n",
      "  9. The Pawffice pet spa & daycare - 1102 Valencia St, San Francisco (⭐ 5.0)\n",
      "  10. Scissor Me Whiskers - 317 Clement St, San Francisco (⭐ 4.7)\n",
      "--------------------------------------------------\n",
      "\n",
      "🐾 **PET STORE** (20 locations found):\n",
      "  1. Pet's Corner - 3701 Geary Blvd #102, San Francisco (⭐ 4.8)\n",
      "  2. Pet Food Express - 1975 Market St, San Francisco (⭐ 4.6)\n",
      "  3. PetSmart - 2675 Geary Blvd, San Francisco (⭐ 4.0)\n",
      "  4. Noe Valley Pet Company - 1451 Church St, San Francisco (⭐ 4.8)\n",
      "  5. The Animal House - 157 Fillmore St, San Francisco (⭐ 4.8)\n",
      "  6. Bernal Beast - 509 Cortland Ave, San Francisco (⭐ 4.8)\n",
      "  7. Bow Wow - 1 Pier 39 building h level, San Francisco (⭐ 4.5)\n",
      "  8. Cole Valley Pets - 910 Cole St, San Francisco (⭐ 4.7)\n",
      "  9. Pet Central SF - 1411 Powell St, San Francisco (⭐ 4.3)\n",
      "  10. Village Pets & Supplies - 1036 Hyde St, San Francisco (⭐ 4.8)\n",
      "--------------------------------------------------\n",
      "\n",
      "🐾 **PET-FRIENDLY CAFÉ** (20 locations found):\n",
      "  1. Philz Coffee - 201 Berry St, San Francisco (⭐ 4.5)\n",
      "  2. Duboce Park Cafe - 2 Sanchez St, San Francisco (⭐ 4.3)\n",
      "  3. Twisted St. Cafe - 2320 Lombard St, San Francisco (⭐ 4.7)\n",
      "  4. Fresh Brew Coffee - 882 Bush St, San Francisco (⭐ 4.8)\n",
      "  5. Piccino Coffee Bar - 845 22nd St, San Francisco (⭐ 4.5)\n",
      "  6. Another Cafe - 1191 Pine St, San Francisco (⭐ 4.4)\n",
      "  7. Farley's Coffeehouse - 1315 18th St, San Francisco (⭐ 4.6)\n",
      "  8. 1428 HAIGHT Patio Cafe & Crepery - 1428 Haight St, San Francisco (⭐ 4.4)\n",
      "  9. Compton’s Coffee House - 1910 Fillmore St, San Francisco (⭐ 4.7)\n",
      "  10. Pixlcat Coffee - 519 Clement St, San Francisco (⭐ 4.4)\n",
      "--------------------------------------------------\n",
      "\n",
      "🐾 **PET-FRIENDLY HOTEL** (20 locations found):\n",
      "  1. Hotel Zephyr San Francisco - 250 Beach St, San Francisco (⭐ 4.2)\n",
      "  2. Holiday Inn Express & Suites San Francisco Fishermans Wharf, an IHG Hotel - 550 North Point St, San Francisco (⭐ 4.2)\n",
      "  3. BEI San Francisco, Trademark Collection by Wyndham - 50 8th St, San Francisco (⭐ 3.6)\n",
      "  4. Hotel Del Sol - 3100 Webster St, San Francisco (⭐ 4.2)\n",
      "  5. Hyatt Regency San Francisco - 5 Embarcadero Ctr, San Francisco (⭐ 4.4)\n",
      "  6. Hotel Zoe Fisherman's Wharf - 425 North Point St, San Francisco (⭐ 4.1)\n",
      "  7. San Francisco Marriott Fisherman's Wharf - 1250 Columbus Ave, San Francisco (⭐ 4.2)\n",
      "  8. Argonaut Hotel - 495 Jefferson St, San Francisco (⭐ 4.5)\n",
      "  9. Noe's Nest Bed & Breakfast - 1257 Guerrero St, San Francisco (⭐ 4.6)\n",
      "  10. Hotel Caza Fisherman’s Wharf - 1300 Columbus Ave, San Francisco (⭐ 4.3)\n",
      "--------------------------------------------------\n",
      "\n",
      "🐾 **VETERINARY CLINIC** (20 locations found):\n",
      "  1. San Francisco Pet Hospital - 1371 Fulton St, San Francisco (⭐ 4.7)\n",
      "  2. Noe Animal Hospital - 3818 24th St, San Francisco (⭐ 4.7)\n",
      "  3. Polk Street Animal Hospital - 1830 Polk St, San Francisco (⭐ 4.6)\n",
      "  4. South Park Animal Hospital - 598 2nd St, San Francisco (⭐ 4.9)\n",
      "  5. Presidio Way Veterinary Hospital - 3619 California St, San Francisco (⭐ 4.7)\n",
      "  6. SF Vet Hospital - 2001 Harrison St, San Francisco (⭐ 4.8)\n",
      "  7. The Castro Animal Hospital - 100 Church St suite b, San Francisco (⭐ 4.6)\n",
      "  8. SoMa Animal Hospital - 1110 4th St, San Francisco (⭐ 4.5)\n",
      "  9. Mission Pet Hospital - 720 Valencia St, San Francisco (⭐ 4.6)\n",
      "  10. Modern Animal - 401 Divisadero St, San Francisco (⭐ 4.6)\n",
      "--------------------------------------------------\n"
     ]
    }
   ],
   "source": [
    "if __name__ == \"__main__\":\n",
    "    user_input = input(\"\\n🔎 Enter city name or postal code: \")\n",
    "    pawfect_planner(user_input)"
   ]
  }
 ],
 "metadata": {
  "colab": {
   "provenance": []
  },
  "kernelspec": {
   "display_name": "Python 3 (ipykernel)",
   "language": "python",
   "name": "python3"
  },
  "language_info": {
   "codemirror_mode": {
    "name": "ipython",
    "version": 3
   },
   "file_extension": ".py",
   "mimetype": "text/x-python",
   "name": "python",
   "nbconvert_exporter": "python",
   "pygments_lexer": "ipython3",
   "version": "3.11.4"
  }
 },
 "nbformat": 4,
 "nbformat_minor": 1
}
